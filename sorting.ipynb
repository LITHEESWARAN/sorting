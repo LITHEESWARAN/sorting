{
 "cells": [
  {
   "cell_type": "code",
   "execution_count": 1,
   "id": "80ab3d91",
   "metadata": {},
   "outputs": [
    {
     "name": "stdout",
     "output_type": "stream",
     "text": [
      "Element appearing maximum number of times is 1\n"
     ]
    }
   ],
   "source": [
    "# Problem 1: Find the Element Appearing Maximum Number of Times\n",
    "# Algorithm:\n",
    "\n",
    "# Use a hash map (dictionary) to count occurrences of each element.\n",
    "# Iterate through the hash map to find the element with the maximum count.\n",
    "from collections import Counter\n",
    "\n",
    "def find_max_occurrence(arr):\n",
    "    counts = Counter(arr)\n",
    "    max_element = max(counts, key=counts.get)\n",
    "    return max_element\n",
    "\n",
    "# Example usage\n",
    "arr = [1, 3, 2, 1, 4, 1, 2]\n",
    "max_occurrence_element = find_max_occurrence(arr)\n",
    "print(f\"Element appearing maximum number of times is {max_occurrence_element}\")\n"
   ]
  },
  {
   "cell_type": "code",
   "execution_count": 2,
   "id": "6d90ed2e",
   "metadata": {},
   "outputs": [
    {
     "name": "stdout",
     "output_type": "stream",
     "text": [
      "Missing number is 5\n"
     ]
    }
   ],
   "source": [
    "# Problem 2: Find the Missing Element in the List\n",
    "# Algorithm:\n",
    "\n",
    "# Calculate the expected sum of the first \n",
    "# 𝑛\n",
    "# n natural numbers.\n",
    "# Calculate the sum of the numbers in the given list.\n",
    "# The missing number is the difference between the expected sum and the actual sum.\n",
    "def find_missing_number(arr, n):\n",
    "    sum_expected = n * (n + 1) // 2\n",
    "    sum_actual = sum(arr)\n",
    "    return sum_expected - sum_actual\n",
    "\n",
    "# Example usage\n",
    "arr = [1, 2, 4, 6, 3, 7, 8]\n",
    "n = 8\n",
    "missing_number = find_missing_number(arr, n)\n",
    "print(f\"Missing number is {missing_number}\")\n"
   ]
  },
  {
   "cell_type": "code",
   "execution_count": 3,
   "id": "e151f238",
   "metadata": {},
   "outputs": [
    {
     "name": "stdout",
     "output_type": "stream",
     "text": [
      "Number occurring odd times is 3\n"
     ]
    }
   ],
   "source": [
    "# Problem 3: Find the Number Occurring Odd Times\n",
    "# Algorithm: Use the XOR operation which cancels out numbers appearing an even number of times.\n",
    "def find_odd_occurrence(arr):\n",
    "    result = 0\n",
    "    for num in arr:\n",
    "        result ^= num\n",
    "    return result\n",
    "\n",
    "# Example usage\n",
    "arr = [1, 2, 3, 2, 3, 1, 3]\n",
    "odd_occurrence = find_odd_occurrence(arr)\n",
    "print(f\"Number occurring odd times is {odd_occurrence}\")\n"
   ]
  },
  {
   "cell_type": "code",
   "execution_count": 4,
   "id": "c08f67db",
   "metadata": {},
   "outputs": [
    {
     "name": "stdout",
     "output_type": "stream",
     "text": [
      "Pair with sum 10 is (3, 7)\n"
     ]
    }
   ],
   "source": [
    "# Problem 4: Find Two Elements with Sum Equal to K\n",
    "# Algorithm:\n",
    "\n",
    "# Use a hash set to keep track of numbers seen so far.\n",
    "# For each number, check if its complement (K - number) is in the set.\n",
    "def find_pair_with_sum(arr, k):\n",
    "    seen = set()\n",
    "    for num in arr:\n",
    "        complement = k - num\n",
    "        if complement in seen:\n",
    "            return (complement, num)\n",
    "        seen.add(num)\n",
    "    return None\n",
    "\n",
    "# Example usage\n",
    "arr = [2, 4, 3, 7]\n",
    "k = 10\n",
    "pair = find_pair_with_sum(arr, k)\n",
    "print(f\"Pair with sum {k} is {pair}\")\n"
   ]
  },
  {
   "cell_type": "code",
   "execution_count": 5,
   "id": "be2468c6",
   "metadata": {},
   "outputs": [
    {
     "name": "stdout",
     "output_type": "stream",
     "text": [
      "Pair with sum closest to 0 is (-80, 85)\n"
     ]
    }
   ],
   "source": [
    "# Problem 5: Find Two Numbers Whose Sum is Closest to 0\n",
    "# Algorithm:\n",
    "\n",
    "# Sort the array.\n",
    "# Use two pointers to find the closest pair.\n",
    "def find_closest_pair(arr):\n",
    "    arr.sort()\n",
    "    left, right = 0, len(arr) - 1\n",
    "    closest_sum = float('inf')\n",
    "    closest_pair = (None, None)\n",
    "\n",
    "    while left < right:\n",
    "        current_sum = arr[left] + arr[right]\n",
    "        if abs(current_sum) < abs(closest_sum):\n",
    "            closest_sum = current_sum\n",
    "            closest_pair = (arr[left], arr[right])\n",
    "        if current_sum < 0:\n",
    "            left += 1\n",
    "        else:\n",
    "            right -= 1\n",
    "\n",
    "    return closest_pair\n",
    "\n",
    "# Example usage\n",
    "arr = [1, 60, -10, 70, -80, 85]\n",
    "closest_pair = find_closest_pair(arr)\n",
    "print(f\"Pair with sum closest to 0 is {closest_pair}\")\n"
   ]
  },
  {
   "cell_type": "code",
   "execution_count": 6,
   "id": "88e0f675",
   "metadata": {},
   "outputs": [
    {
     "name": "stdout",
     "output_type": "stream",
     "text": [
      "Three elements with sum 17 are (4, 5, 8)\n"
     ]
    }
   ],
   "source": [
    "# Problem 6: Find Three Elements with Sum Equal to a Given Number\n",
    "# Algorithm:\n",
    "\n",
    "# Sort the array.\n",
    "# For each element, use the two-pointer technique to find two elements that sum up to the target minus the current element.\n",
    "def find_three_elements(arr, target):\n",
    "    arr.sort()\n",
    "    n = len(arr)\n",
    "    for i in range(n - 2):\n",
    "        left, right = i + 1, n - 1\n",
    "        while left < right:\n",
    "            current_sum = arr[i] + arr[left] + arr[right]\n",
    "            if current_sum == target:\n",
    "                return (arr[i], arr[left], arr[right])\n",
    "            elif current_sum < target:\n",
    "                left += 1\n",
    "            else:\n",
    "                right -= 1\n",
    "    return None\n",
    "\n",
    "# Example usage\n",
    "arr = [1, 4, 5, 6, 8, 9]\n",
    "target = 17\n",
    "three_elements = find_three_elements(arr, target)\n",
    "print(f\"Three elements with sum {target} are {three_elements}\")\n"
   ]
  },
  {
   "cell_type": "code",
   "execution_count": 7,
   "id": "82203bf9",
   "metadata": {},
   "outputs": [
    {
     "name": "stdout",
     "output_type": "stream",
     "text": [
      "Pythagorean triplet is (3, 4, 5)\n"
     ]
    }
   ],
   "source": [
    "# Problem 7: Find Three Elements i, j, k such that i * i + j * j = k*k.\n",
    "\n",
    "# Algorithm:\n",
    "\n",
    "# Compute squares of all elements and store them in a set.\n",
    "# For each pair of elements, check if their sum exists in the set.\n",
    "def find_pythagorean_triplet(arr):\n",
    "    squares = set(x * x for x in arr)\n",
    "    for i in range(len(arr)):\n",
    "        for j in range(i + 1, len(arr)):\n",
    "            if (arr[i]**2 + arr[j]**2) in squares:\n",
    "                return (arr[i], arr[j], int((arr[i]**2 + arr[j]**2) ** 0.5))\n",
    "    return None\n",
    "\n",
    "# Example usage\n",
    "arr = [3, 4, 5, 6, 8, 10]\n",
    "triplet = find_pythagorean_triplet(arr)\n",
    "print(f\"Pythagorean triplet is {triplet}\")\n"
   ]
  },
  {
   "cell_type": "code",
   "execution_count": 8,
   "id": "b05308f5",
   "metadata": {},
   "outputs": [
    {
     "name": "stdout",
     "output_type": "stream",
     "text": [
      "Majority element is 4\n"
     ]
    }
   ],
   "source": [
    "# Problem 8: Find the Majority Element\n",
    "# Algorithm:\n",
    "\n",
    "# Use the Boyer-Moore Voting Algorithm.\n",
    "def find_majority_element(arr):\n",
    "    candidate, count = None, 0\n",
    "    for num in arr:\n",
    "        if count == 0:\n",
    "            candidate = num\n",
    "        count += (1 if num == candidate else -1)\n",
    "    \n",
    "    # Verify the candidate\n",
    "    if arr.count(candidate) > len(arr) // 2:\n",
    "        return candidate\n",
    "    return None\n",
    "\n",
    "# Example usage\n",
    "arr = [3, 3, 4, 2, 4, 4, 2, 4, 4]\n",
    "majority_element = find_majority_element(arr)\n",
    "print(f\"Majority element is {majority_element}\")\n"
   ]
  },
  {
   "cell_type": "code",
   "execution_count": 9,
   "id": "7a4084c9",
   "metadata": {},
   "outputs": [
    {
     "name": "stdout",
     "output_type": "stream",
     "text": [
      "Row with the maximum number of 0’s is 2\n"
     ]
    }
   ],
   "source": [
    "# Problem 9: Find the Row with the Maximum Number of 0’s in a Matrix\n",
    "# Algorithm:\n",
    "\n",
    "# Traverse each row and count the number of 0’s. Track the row with the maximum count.\n",
    "def find_row_with_max_zeros(matrix):\n",
    "    max_zeros = -1\n",
    "    row_index = -1\n",
    "    for i, row in enumerate(matrix):\n",
    "        zero_count = row.count(0)\n",
    "        if zero_count > max_zeros:\n",
    "            max_zeros = zero_count\n",
    "            row_index = i\n",
    "    return row_index\n",
    "\n",
    "# Example usage\n",
    "matrix = [\n",
    "    [1, 0, 0, 0],\n",
    "    [1, 1, 0, 0],\n",
    "    [0, 0, 0, 0],\n",
    "    [1, 0, 1, 0]\n",
    "]\n",
    "row_with_max_zeros = find_row_with_max_zeros(matrix)\n",
    "print(f\"Row with the maximum number of 0’s is {row_with_max_zeros}\")\n"
   ]
  },
  {
   "cell_type": "code",
   "execution_count": 10,
   "id": "829f2b88",
   "metadata": {},
   "outputs": [
    {
     "name": "stdout",
     "output_type": "stream",
     "text": [
      "Sorted array is [0, 0, 0, 0, 0, 1, 1, 1, 1, 2, 2, 2]\n"
     ]
    }
   ],
   "source": [
    "# Problem 10: Sort an Array of 0’s, 1’s, and 2’s\n",
    "# Algorithm: Use the Dutch National Flag algorithm.\n",
    "def sort_012(arr):\n",
    "    low, mid, high = 0, 0, len(arr) - 1\n",
    "    while mid <= high:\n",
    "        if arr[mid] == 0:\n",
    "            arr[low], arr[mid] = arr[mid], arr[low]\n",
    "            low += 1\n",
    "            mid += 1\n",
    "        elif arr[mid] == 1:\n",
    "            mid += 1\n",
    "        else:\n",
    "            arr[high], arr[mid] = arr[mid], arr[high]\n",
    "            high -= 1\n",
    "\n",
    "# Example usage\n",
    "arr = [0, 1, 2, 0, 1, 2, 1, 2, 0, 0, 0, 1]\n",
    "sort_012(arr)\n",
    "print(f\"Sorted array is {arr}\")\n"
   ]
  },
  {
   "cell_type": "code",
   "execution_count": null,
   "id": "d61b6cb4",
   "metadata": {},
   "outputs": [],
   "source": []
  }
 ],
 "metadata": {
  "kernelspec": {
   "display_name": "Python 3 (ipykernel)",
   "language": "python",
   "name": "python3"
  },
  "language_info": {
   "codemirror_mode": {
    "name": "ipython",
    "version": 3
   },
   "file_extension": ".py",
   "mimetype": "text/x-python",
   "name": "python",
   "nbconvert_exporter": "python",
   "pygments_lexer": "ipython3",
   "version": "3.9.12"
  }
 },
 "nbformat": 4,
 "nbformat_minor": 5
}
